{
 "cells": [
  {
   "cell_type": "code",
   "execution_count": null,
   "metadata": {},
   "outputs": [],
   "source": [
    "-- Creating tabels for PH-EmployeeDB\n",
    "\n",
    "-- #1 READY\n",
    "CREATE TABLE departments (\n",
    "\tdept_no VARCHAR(4) NOT NULL\n",
    "\t,dept_name VARCHAR(40) NOT NULL\n",
    "\t,PRIMARY KEY (dept_no)\n",
    "\t,UNIQUE (dept_name)\n",
    ");\n",
    "\n",
    "-- #3 READY\n",
    "CREATE TABLE employees (\n",
    "\temp_no INT NOT NULL\n",
    "\t,birth_date DATE NOT NULL\n",
    "\t,first_name VARCHAR NOT NULL\n",
    "\t,last_name VARCHAR NOT NULL\n",
    "\t,gender VARCHAR NOT NULL\n",
    "\t,hire_date DATE NOT NULL\n",
    "\t,FOREIGN KEY (emp_no) REFERENCES Dept_Emp (emp_no)\n",
    ");\n",
    "--#4 READY\n",
    "CREATE TABLE dept_manager (\n",
    "\tdept_no VARCHAR(4) NOT NULL\n",
    "    ,emp_no INT NOT NULL\n",
    "    ,from_date DATE NOT NULL\n",
    "    ,to_date DATE NOT NULL\n",
    "\t,FOREIGN KEY (emp_no) REFERENCES Dept_Emp (emp_no)\n",
    ");\n",
    "-- #6 READY\n",
    "CREATE TABLE salaries (\n",
    "\temp_no INT NOT NULL\n",
    "\t,salary INT NOT NULL\n",
    "\t,from_date DATE NOT NULL\n",
    "\t,to_date DATE NOT NULL\n",
    "\t,FOREIGN KEY (emp_no) REFERENCES Dept_Emp (emp_no)\n",
    ");\n",
    "\n",
    "-- #2 READY\n",
    "CREATE TABLE dept_emp (\n",
    "\temp_no INT NOT NULL\n",
    "\t,dept_no VARCHAR NOT NULL\n",
    "\t,from_date DATE NOT NULL\n",
    "\t,to_date DATE NOT NULL\n",
    "\t,PRIMARY KEY (emp_no)\n",
    "\t,FOREIGN KEY (dept_no) REFERENCES Departments (dept_no)\n",
    ");\n",
    "-- #5 READY\n",
    "CREATE TABLE titles (\n",
    "\temp_no INT NOT NULL\n",
    "\t,title VARCHAR NOT NULL\n",
    "\t,from_date DATE NOT NULL\n",
    "\t,to_date DATE NOT NULL\n",
    "\t,FOREIGN KEY (emp_no) REFERENCES Dept_Emp (emp_no)\n",
    ");\n",
    "\n"
   ]
  }
 ],
 "metadata": {
  "kernelspec": {
   "display_name": "PythonData",
   "language": "python",
   "name": "pythondata"
  },
  "language_info": {
   "name": "python",
   "version": "3.7.13"
  },
  "orig_nbformat": 4,
  "vscode": {
   "interpreter": {
    "hash": "701283d06b555dc37decc28ad87c20f739b981430b66b05ebbac4d1758aa2d14"
   }
  }
 },
 "nbformat": 4,
 "nbformat_minor": 2
}
